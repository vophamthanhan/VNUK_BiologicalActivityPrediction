{
 "cells": [
  {
   "cell_type": "code",
   "execution_count": 1,
   "metadata": {},
   "outputs": [],
   "source": [
    "import pandas as pd\n",
    "from sklearn.model_selection import train_test_split\n",
    "from sklearn.preprocessing import StandardScaler, LabelEncoder"
   ]
  },
  {
   "cell_type": "markdown",
   "metadata": {},
   "source": [
    "## Load dataset"
   ]
  },
  {
   "cell_type": "code",
   "execution_count": 9,
   "metadata": {},
   "outputs": [
    {
     "data": {
      "text/html": [
       "<div>\n",
       "<style scoped>\n",
       "    .dataframe tbody tr th:only-of-type {\n",
       "        vertical-align: middle;\n",
       "    }\n",
       "\n",
       "    .dataframe tbody tr th {\n",
       "        vertical-align: top;\n",
       "    }\n",
       "\n",
       "    .dataframe thead th {\n",
       "        text-align: right;\n",
       "    }\n",
       "</style>\n",
       "<table border=\"1\" class=\"dataframe\">\n",
       "  <thead>\n",
       "    <tr style=\"text-align: right;\">\n",
       "      <th></th>\n",
       "      <th>ChEMBL ID</th>\n",
       "      <th>Name</th>\n",
       "      <th>UniProt Accessions</th>\n",
       "      <th>Type</th>\n",
       "      <th>Organism</th>\n",
       "      <th>Compounds</th>\n",
       "      <th>Activities</th>\n",
       "      <th>Tax ID</th>\n",
       "      <th>Species Group Flag</th>\n",
       "    </tr>\n",
       "  </thead>\n",
       "  <tbody>\n",
       "    <tr>\n",
       "      <th>0</th>\n",
       "      <td>CHEMBL614835</td>\n",
       "      <td>SJSA</td>\n",
       "      <td>NaN</td>\n",
       "      <td>CELL-LINE</td>\n",
       "      <td>Homo sapiens</td>\n",
       "      <td>NaN</td>\n",
       "      <td>NaN</td>\n",
       "      <td>9606.0</td>\n",
       "      <td>False</td>\n",
       "    </tr>\n",
       "    <tr>\n",
       "      <th>1</th>\n",
       "      <td>CHEMBL2364037</td>\n",
       "      <td>N-acetylmuramic acid</td>\n",
       "      <td>NaN</td>\n",
       "      <td>SMALL MOLECULE</td>\n",
       "      <td>Bacteria</td>\n",
       "      <td>NaN</td>\n",
       "      <td>NaN</td>\n",
       "      <td>2.0</td>\n",
       "      <td>True</td>\n",
       "    </tr>\n",
       "    <tr>\n",
       "      <th>2</th>\n",
       "      <td>CHEMBL3580484</td>\n",
       "      <td>Interleukin-12 subunit beta</td>\n",
       "      <td>P29460</td>\n",
       "      <td>SINGLE PROTEIN</td>\n",
       "      <td>Homo sapiens</td>\n",
       "      <td>NaN</td>\n",
       "      <td>NaN</td>\n",
       "      <td>9606.0</td>\n",
       "      <td>False</td>\n",
       "    </tr>\n",
       "    <tr>\n",
       "      <th>3</th>\n",
       "      <td>CHEMBL3430866</td>\n",
       "      <td>Cytochrome P450 3A9</td>\n",
       "      <td>P51538</td>\n",
       "      <td>SINGLE PROTEIN</td>\n",
       "      <td>Rattus norvegicus</td>\n",
       "      <td>NaN</td>\n",
       "      <td>NaN</td>\n",
       "      <td>10116.0</td>\n",
       "      <td>False</td>\n",
       "    </tr>\n",
       "    <tr>\n",
       "      <th>4</th>\n",
       "      <td>CHEMBL3430874</td>\n",
       "      <td>Beta-ureidopropionase</td>\n",
       "      <td>Q9UBR1</td>\n",
       "      <td>SINGLE PROTEIN</td>\n",
       "      <td>Homo sapiens</td>\n",
       "      <td>NaN</td>\n",
       "      <td>NaN</td>\n",
       "      <td>9606.0</td>\n",
       "      <td>False</td>\n",
       "    </tr>\n",
       "  </tbody>\n",
       "</table>\n",
       "</div>"
      ],
      "text/plain": [
       "       ChEMBL ID                         Name UniProt Accessions   \n",
       "0   CHEMBL614835                         SJSA                NaN  \\\n",
       "1  CHEMBL2364037         N-acetylmuramic acid                NaN   \n",
       "2  CHEMBL3580484  Interleukin-12 subunit beta             P29460   \n",
       "3  CHEMBL3430866          Cytochrome P450 3A9             P51538   \n",
       "4  CHEMBL3430874        Beta-ureidopropionase             Q9UBR1   \n",
       "\n",
       "             Type           Organism  Compounds  Activities   Tax ID   \n",
       "0       CELL-LINE       Homo sapiens        NaN         NaN   9606.0  \\\n",
       "1  SMALL MOLECULE           Bacteria        NaN         NaN      2.0   \n",
       "2  SINGLE PROTEIN       Homo sapiens        NaN         NaN   9606.0   \n",
       "3  SINGLE PROTEIN  Rattus norvegicus        NaN         NaN  10116.0   \n",
       "4  SINGLE PROTEIN       Homo sapiens        NaN         NaN   9606.0   \n",
       "\n",
       "   Species Group Flag  \n",
       "0               False  \n",
       "1                True  \n",
       "2               False  \n",
       "3               False  \n",
       "4               False  "
      ]
     },
     "execution_count": 9,
     "metadata": {},
     "output_type": "execute_result"
    }
   ],
   "source": [
    "data = pd.read_csv('C:/Users/OS/Desktop/BiologicalActivityPrediction_20040007_VoPhamThanhAn/data/chembl_data.csv')\n",
    "data.head()"
   ]
  },
  {
   "cell_type": "markdown",
   "metadata": {},
   "source": [
    "# Drop missing values"
   ]
  },
  {
   "cell_type": "code",
   "execution_count": 10,
   "metadata": {},
   "outputs": [],
   "source": [
    "data = data.dropna(subset=['Compounds', 'Activities'])"
   ]
  },
  {
   "cell_type": "markdown",
   "metadata": {},
   "source": [
    "# Encode categorical features"
   ]
  },
  {
   "cell_type": "code",
   "execution_count": 11,
   "metadata": {},
   "outputs": [],
   "source": [
    "label_encoder = LabelEncoder()\n",
    "data['Type'] = label_encoder.fit_transform(data['Type'])\n",
    "data['Organism'] = label_encoder.fit_transform(data['Organism'])"
   ]
  },
  {
   "cell_type": "markdown",
   "metadata": {},
   "source": [
    "# Select features and target"
   ]
  },
  {
   "cell_type": "code",
   "execution_count": 12,
   "metadata": {},
   "outputs": [],
   "source": [
    "X = data[['Compounds', 'Type', 'Tax ID', 'Organism']]\n",
    "y = data['Activities']"
   ]
  },
  {
   "cell_type": "markdown",
   "metadata": {},
   "source": [
    "# Split data"
   ]
  },
  {
   "cell_type": "code",
   "execution_count": 13,
   "metadata": {},
   "outputs": [],
   "source": [
    "X_train, X_test, y_train, y_test = train_test_split(X, y, test_size=0.2, random_state=42)"
   ]
  },
  {
   "cell_type": "markdown",
   "metadata": {},
   "source": [
    "# Normalize data"
   ]
  },
  {
   "cell_type": "code",
   "execution_count": 14,
   "metadata": {},
   "outputs": [],
   "source": [
    "scaler = StandardScaler()\n",
    "X_train = scaler.fit_transform(X_train)\n",
    "X_test = scaler.transform(X_test)"
   ]
  },
  {
   "cell_type": "markdown",
   "metadata": {},
   "source": [
    "# Save processed data"
   ]
  },
  {
   "cell_type": "code",
   "execution_count": 15,
   "metadata": {},
   "outputs": [],
   "source": [
    "pd.DataFrame(X_train, columns=X.columns).to_csv('C:/Users/OS/Desktop/BiologicalActivityPrediction_20040007_VoPhamThanhAn/data/X_train.csv', index=False)\n",
    "pd.DataFrame(X_test, columns=X.columns).to_csv('C:/Users/OS/Desktop/BiologicalActivityPrediction_20040007_VoPhamThanhAn/data/X_test.csv', index=False)\n",
    "pd.DataFrame(y_train).to_csv('C:/Users/OS/Desktop/BiologicalActivityPrediction_20040007_VoPhamThanhAn/data/y_train.csv', index=False)\n",
    "pd.DataFrame(y_test).to_csv('C:/Users/OS/Desktop/BiologicalActivityPrediction_20040007_VoPhamThanhAn/data/y_test.csv', index=False)"
   ]
  },
  {
   "cell_type": "markdown",
   "metadata": {},
   "source": [
    "# Save scaler"
   ]
  },
  {
   "cell_type": "code",
   "execution_count": 17,
   "metadata": {},
   "outputs": [
    {
     "data": {
      "text/plain": [
       "['C:/Users/OS/Desktop/Data_Final/models/scaler.pkl']"
      ]
     },
     "execution_count": 17,
     "metadata": {},
     "output_type": "execute_result"
    }
   ],
   "source": [
    "import joblib\n",
    "joblib.dump(scaler, 'C:/Users/OS/Desktop/BiologicalActivityPrediction_20040007_VoPhamThanhAn/models/scaler.pkl')"
   ]
  }
 ],
 "metadata": {
  "kernelspec": {
   "display_name": "Python 3",
   "language": "python",
   "name": "python3"
  },
  "language_info": {
   "codemirror_mode": {
    "name": "ipython",
    "version": 3
   },
   "file_extension": ".py",
   "mimetype": "text/x-python",
   "name": "python",
   "nbconvert_exporter": "python",
   "pygments_lexer": "ipython3",
   "version": "3.11.9"
  }
 },
 "nbformat": 4,
 "nbformat_minor": 2
}
