{
 "cells": [
  {
   "cell_type": "code",
   "execution_count": 1,
   "metadata": {},
   "outputs": [],
   "source": [
    "import pandas as pd\n",
    "import joblib\n",
    "from tensorflow.keras.models import load_model\n",
    "from sklearn.metrics import mean_squared_error, r2_score"
   ]
  },
  {
   "cell_type": "markdown",
   "metadata": {},
   "source": [
    "# Load test data"
   ]
  },
  {
   "cell_type": "code",
   "execution_count": 2,
   "metadata": {},
   "outputs": [],
   "source": [
    "X_test = pd.read_csv('C:/Users/OS/Desktop/BiologicalActivityPrediction_20040007_VoPhamThanhAn/data/X_test.csv')\n",
    "y_test = pd.read_csv('C:/Users/OS/Desktop/BiologicalActivityPrediction_20040007_VoPhamThanhAn/data/y_test.csv').values.ravel()"
   ]
  },
  {
   "cell_type": "markdown",
   "metadata": {},
   "source": [
    "# Load training data"
   ]
  },
  {
   "cell_type": "code",
   "execution_count": 5,
   "metadata": {},
   "outputs": [],
   "source": [
    "import pandas as pd\n",
    "\n",
    "X_train = pd.read_csv('C:/Users/OS/Desktop/BiologicalActivityPrediction_20040007_VoPhamThanhAn/data/X_train.csv')\n",
    "y_train = pd.read_csv('C:/Users/OS/Desktop/BiologicalActivityPrediction_20040007_VoPhamThanhAn/data/y_train.csv').values.ravel()"
   ]
  },
  {
   "cell_type": "markdown",
   "metadata": {},
   "source": [
    "# Check NaN in data"
   ]
  },
  {
   "cell_type": "code",
   "execution_count": 14,
   "metadata": {},
   "outputs": [
    {
     "name": "stdout",
     "output_type": "stream",
     "text": [
      "NaN in X_train: Compounds    0\n",
      "Type         0\n",
      "Tax ID       0\n",
      "Organism     0\n",
      "dtype: int64\n",
      "NaN in y_train: 0\n"
     ]
    }
   ],
   "source": [
    "print(\"NaN in X_train:\", X_train.isnull().sum())\n",
    "print(\"NaN in y_train:\", pd.Series(y_train).isnull().sum())"
   ]
  },
  {
   "cell_type": "code",
   "execution_count": 15,
   "metadata": {},
   "outputs": [
    {
     "ename": "IndexError",
     "evalue": "index 12241 is out of bounds for axis 0 with size 12241",
     "output_type": "error",
     "traceback": [
      "\u001b[1;31m---------------------------------------------------------------------------\u001b[0m",
      "\u001b[1;31mIndexError\u001b[0m                                Traceback (most recent call last)",
      "Cell \u001b[1;32mIn[15], line 2\u001b[0m\n\u001b[0;32m      1\u001b[0m X_train \u001b[38;5;241m=\u001b[39m X_train\u001b[38;5;241m.\u001b[39mdropna()\n\u001b[1;32m----> 2\u001b[0m y_train \u001b[38;5;241m=\u001b[39m \u001b[43my_train\u001b[49m\u001b[43m[\u001b[49m\u001b[43mX_train\u001b[49m\u001b[38;5;241;43m.\u001b[39;49m\u001b[43mindex\u001b[49m\u001b[43m]\u001b[49m\n",
      "\u001b[1;31mIndexError\u001b[0m: index 12241 is out of bounds for axis 0 with size 12241"
     ]
    }
   ],
   "source": [
    "X_train = X_train.dropna()\n",
    "y_train = y_train[X_train.index]"
   ]
  },
  {
   "cell_type": "code",
   "execution_count": 11,
   "metadata": {},
   "outputs": [],
   "source": [
    "from tensorflow.keras.models import load_model\n",
    "import joblib\n",
    "\n",
    "# Load model\n",
    "gnb_model = joblib.load('C:/Users/OS/Desktop/BiologicalActivityPrediction_20040007_VoPhamThanhAn/models/gaussian_nb.pkl')\n",
    "xgb_model = joblib.load('C:/Users/OS/Desktop/BiologicalActivityPrediction_20040007_VoPhamThanhAn/models/xgboost.pkl')\n",
    "\n",
    "# Load ANN model\n",
    "try:\n",
    "    ann_model = load_model('C:/Users/OS/Desktop/BiologicalActivityPrediction_20040007_VoPhamThanhAn/models/ann.h5', compile=False)\n",
    "    ann_model.compile(optimizer='adam', loss='mse', metrics=['mae'])\n",
    "except Exception as e:\n",
    "    st.error(f\"Error loading ANN model: {e}\")"
   ]
  },
  {
   "cell_type": "code",
   "execution_count": 17,
   "metadata": {},
   "outputs": [
    {
     "name": "stdout",
     "output_type": "stream",
     "text": [
      "NaN in X_test:\n",
      "Compounds     0\n",
      "Type          0\n",
      "Tax ID       45\n",
      "Organism      0\n",
      "dtype: int64\n"
     ]
    }
   ],
   "source": [
    "import pandas as pd\n",
    "\n",
    "# Check NaN in X_test\n",
    "print(\"NaN in X_test:\")\n",
    "print(X_test.isnull().sum())"
   ]
  },
  {
   "cell_type": "code",
   "execution_count": 18,
   "metadata": {},
   "outputs": [],
   "source": [
    "X_test = X_test.dropna()\n",
    "y_test = y_test[X_test.index]  # Update y_test "
   ]
  },
  {
   "cell_type": "markdown",
   "metadata": {},
   "source": [
    "# Evaluate GaussianNB"
   ]
  },
  {
   "cell_type": "code",
   "execution_count": 19,
   "metadata": {},
   "outputs": [
    {
     "name": "stdout",
     "output_type": "stream",
     "text": [
      "GaussianNB MSE: 16673896.740849674\n",
      "GaussianNB R²: 0.6265106078672363\n"
     ]
    }
   ],
   "source": [
    "from sklearn.metrics import mean_squared_error, r2_score\n",
    "\n",
    "y_pred_gnb = gnb_model.predict(X_test)\n",
    "print(\"GaussianNB MSE:\", mean_squared_error(y_test, y_pred_gnb))\n",
    "print(\"GaussianNB R²:\", r2_score(y_test, y_pred_gnb))"
   ]
  },
  {
   "cell_type": "markdown",
   "metadata": {},
   "source": [
    "# Evaluate XGBoost"
   ]
  },
  {
   "cell_type": "code",
   "execution_count": 20,
   "metadata": {},
   "outputs": [
    {
     "name": "stdout",
     "output_type": "stream",
     "text": [
      "XGBoost MSE: 8489816.955232957\n",
      "XGBoost R²: 0.8098311016788264\n"
     ]
    }
   ],
   "source": [
    "y_pred_xgb = xgb_model.predict(X_test)\n",
    "print(\"XGBoost MSE:\", mean_squared_error(y_test, y_pred_xgb))\n",
    "print(\"XGBoost R²:\", r2_score(y_test, y_pred_xgb))"
   ]
  },
  {
   "cell_type": "markdown",
   "metadata": {},
   "source": [
    "# Evaluate ANN"
   ]
  },
  {
   "cell_type": "code",
   "execution_count": 21,
   "metadata": {},
   "outputs": [
    {
     "name": "stdout",
     "output_type": "stream",
     "text": [
      "\u001b[1m96/96\u001b[0m \u001b[32m━━━━━━━━━━━━━━━━━━━━\u001b[0m\u001b[37m\u001b[0m \u001b[1m0s\u001b[0m 2ms/step\n",
      "ANN MSE: 5961613.305824493\n",
      "ANN R²: 0.8664619696085798\n"
     ]
    }
   ],
   "source": [
    "y_pred_ann = ann_model.predict(X_test).flatten()\n",
    "print(\"ANN MSE:\", mean_squared_error(y_test, y_pred_ann))\n",
    "print(\"ANN R²:\", r2_score(y_test, y_pred_ann))"
   ]
  }
 ],
 "metadata": {
  "kernelspec": {
   "display_name": "Python 3",
   "language": "python",
   "name": "python3"
  },
  "language_info": {
   "codemirror_mode": {
    "name": "ipython",
    "version": 3
   },
   "file_extension": ".py",
   "mimetype": "text/x-python",
   "name": "python",
   "nbconvert_exporter": "python",
   "pygments_lexer": "ipython3",
   "version": "3.11.9"
  }
 },
 "nbformat": 4,
 "nbformat_minor": 2
}
